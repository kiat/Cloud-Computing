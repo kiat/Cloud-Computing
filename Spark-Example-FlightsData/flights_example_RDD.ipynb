{
  "cells": [
    {
      "cell_type": "code",
      "source": [],
      "metadata": {
        "id": "dvebhF2nBvZh"
      },
      "execution_count": null,
      "outputs": []
    },
    {
      "cell_type": "code",
      "metadata": {
        "colab": {
          "base_uri": "https://localhost:8080/",
          "height": 722
        },
        "id": "hxv7w_2y2bb9",
        "outputId": "4a22b63c-dee7-4c1e-c619-c7ff5e6d8df5"
      },
      "source": [
        "!sudo apt update\n",
        "!apt-get install openjdk-8-jdk-headless -qq > /dev/null\n",
        "#Check this site for the latest download link https://www.apache.org/dyn/closer.lua/spark/spark-3.2.1/spark-3.2.1-bin-hadoop3.2.tgz\n",
        "!wget -q https://dlcdn.apache.org/spark/spark-3.2.1/spark-3.2.1-bin-hadoop3.2.tgz\n",
        "!tar xf spark-3.2.1-bin-hadoop3.2.tgz\n",
        "!pip install -q findspark\n",
        "!pip install pyspark\n",
        "!pip install py4j\n",
        "\n",
        "import os\n",
        "import sys\n",
        "# os.environ[\"JAVA_HOME\"] = \"/usr/lib/jvm/java-8-openjdk-amd64\"\n",
        "# os.environ[\"SPARK_HOME\"] = \"/content/spark-3.2.1-bin-hadoop3.2\"\n",
        "\n",
        "\n",
        "import findspark\n",
        "findspark.init()\n",
        "findspark.find()\n",
        "\n",
        "import pyspark\n",
        "\n",
        "from pyspark.sql import DataFrame, SparkSession\n",
        "from typing import List\n",
        "import pyspark.sql.types as T\n",
        "import pyspark.sql.functions as F\n",
        "\n",
        "spark= SparkSession \\\n",
        "       .builder \\\n",
        "       .appName(\"Our First Spark Example\") \\\n",
        "       .getOrCreate()\n",
        "\n",
        "spark"
      ],
      "execution_count": 1,
      "outputs": [
        {
          "output_type": "stream",
          "name": "stdout",
          "text": [
            "Hit:1 https://cli.github.com/packages stable InRelease\n",
            "Get:2 https://cloud.r-project.org/bin/linux/ubuntu jammy-cran40/ InRelease [3,632 B]\n",
            "Get:3 https://developer.download.nvidia.com/compute/cuda/repos/ubuntu2204/x86_64  InRelease [1,581 B]\n",
            "Get:4 http://security.ubuntu.com/ubuntu jammy-security InRelease [129 kB]\n",
            "Hit:5 http://archive.ubuntu.com/ubuntu jammy InRelease\n",
            "Get:6 https://r2u.stat.illinois.edu/ubuntu jammy InRelease [6,555 B]\n",
            "Get:7 http://archive.ubuntu.com/ubuntu jammy-updates InRelease [128 kB]\n",
            "Hit:8 https://ppa.launchpadcontent.net/deadsnakes/ppa/ubuntu jammy InRelease\n",
            "Hit:9 https://ppa.launchpadcontent.net/graphics-drivers/ppa/ubuntu jammy InRelease\n",
            "Get:10 https://developer.download.nvidia.com/compute/cuda/repos/ubuntu2204/x86_64  Packages [2,065 kB]\n",
            "Get:11 http://archive.ubuntu.com/ubuntu jammy-backports InRelease [127 kB]\n",
            "Hit:12 https://ppa.launchpadcontent.net/ubuntugis/ppa/ubuntu jammy InRelease\n",
            "Get:13 https://r2u.stat.illinois.edu/ubuntu jammy/main all Packages [9,322 kB]\n",
            "Get:14 https://r2u.stat.illinois.edu/ubuntu jammy/main amd64 Packages [2,809 kB]\n",
            "Get:15 http://archive.ubuntu.com/ubuntu jammy-updates/main amd64 Packages [3,738 kB]\n",
            "Get:16 http://archive.ubuntu.com/ubuntu jammy-updates/universe amd64 Packages [1,580 kB]\n",
            "Get:17 http://archive.ubuntu.com/ubuntu jammy-backports/universe amd64 Packages [35.2 kB]\n",
            "Get:18 http://archive.ubuntu.com/ubuntu jammy-backports/main amd64 Packages [83.9 kB]\n",
            "Fetched 20.0 MB in 5s (3,855 kB/s)\n",
            "Reading package lists... Done\n",
            "Building dependency tree... Done\n",
            "Reading state information... Done\n",
            "40 packages can be upgraded. Run 'apt list --upgradable' to see them.\n",
            "\u001b[1;33mW: \u001b[0mSkipping acquire of configured file 'main/source/Sources' as repository 'https://r2u.stat.illinois.edu/ubuntu jammy InRelease' does not seem to provide it (sources.list entry misspelt?)\u001b[0m\n",
            "tar: spark-3.2.1-bin-hadoop3.2.tgz: Cannot open: No such file or directory\n",
            "tar: Error is not recoverable: exiting now\n",
            "Requirement already satisfied: pyspark in /usr/local/lib/python3.12/dist-packages (3.5.1)\n",
            "Requirement already satisfied: py4j==0.10.9.7 in /usr/local/lib/python3.12/dist-packages (from pyspark) (0.10.9.7)\n",
            "Requirement already satisfied: py4j in /usr/local/lib/python3.12/dist-packages (0.10.9.7)\n"
          ]
        },
        {
          "output_type": "execute_result",
          "data": {
            "text/plain": [
              "<pyspark.sql.session.SparkSession at 0x79cffd2f5520>"
            ],
            "text/html": [
              "\n",
              "            <div>\n",
              "                <p><b>SparkSession - in-memory</b></p>\n",
              "                \n",
              "        <div>\n",
              "            <p><b>SparkContext</b></p>\n",
              "\n",
              "            <p><a href=\"http://da6a739f225e:4040\">Spark UI</a></p>\n",
              "\n",
              "            <dl>\n",
              "              <dt>Version</dt>\n",
              "                <dd><code>v3.5.1</code></dd>\n",
              "              <dt>Master</dt>\n",
              "                <dd><code>local[*]</code></dd>\n",
              "              <dt>AppName</dt>\n",
              "                <dd><code>Our First Spark Example</code></dd>\n",
              "            </dl>\n",
              "        </div>\n",
              "        \n",
              "            </div>\n",
              "        "
            ]
          },
          "metadata": {},
          "execution_count": 1
        }
      ]
    },
    {
      "cell_type": "code",
      "execution_count": 4,
      "metadata": {
        "id": "zc6zAzxEBtsm"
      },
      "outputs": [],
      "source": [
        "from operator import add\n",
        "from pyspark import SparkContext\n",
        "\n",
        "sc = SparkContext.getOrCreate()"
      ]
    },
    {
      "cell_type": "code",
      "execution_count": 11,
      "metadata": {
        "id": "iRVahVcmBtsn"
      },
      "outputs": [],
      "source": [
        "# Download the files\n",
        "# !wget -q https://www.cs.utexas.edu/~kiat/datasets/flights.csv.bz2\n",
        "\n",
        "!wget -q https://www.cs.utexas.edu/~kiat/datasets/flights-10k.csv\n",
        "\n",
        "!wget -q https://www.cs.utexas.edu/~kiat/datasets/airports.csv"
      ]
    },
    {
      "cell_type": "code",
      "execution_count": 12,
      "metadata": {
        "id": "PhwvZasABtso"
      },
      "outputs": [],
      "source": [
        "lines = sc.textFile(\"flights-10k.csv\")\n",
        "airports_lines = sc.textFile('airports.csv')"
      ]
    },
    {
      "cell_type": "code",
      "execution_count": 13,
      "metadata": {
        "id": "4nuZQmcUBtso",
        "outputId": "0d5354b2-ea22-4e8b-ebd3-8b4a9005824c",
        "colab": {
          "base_uri": "https://localhost:8080/"
        }
      },
      "outputs": [
        {
          "output_type": "execute_result",
          "data": {
            "text/plain": [
              "[('2015',\n",
              "  '1',\n",
              "  '1',\n",
              "  '4',\n",
              "  'AA',\n",
              "  '2336',\n",
              "  'N3KUAA',\n",
              "  'LAX',\n",
              "  'PBI',\n",
              "  '0010',\n",
              "  '0002',\n",
              "  -8.0,\n",
              "  '0')]"
            ]
          },
          "metadata": {},
          "execution_count": 13
        }
      ],
      "source": [
        "# Removing the Header Line from CSV file\n",
        "linesHeader = lines.first()\n",
        "#header = sc.parallelize([linesHeader])\n",
        "#linesWithOutHeader = lines.subtract(header)\n",
        "\n",
        "flights_raw = lines\\\n",
        "    .zipWithIndex()\\\n",
        "    .filter(lambda x: x[1] > 1)\\\n",
        "    .keys()\n",
        "\n",
        "#flishgts = flights_lines\\\n",
        "#    .map(lambda x: x.split(','))\n",
        "#flights = flights_raw.map(lambda p: (p[0], p[1] , p[2] , p[3], p[4] , p[5] , p[6], p[7] , p[8] , p[9], p[10], '0' if p[11] == '' else p[11], p[24] ))\n",
        "\n",
        "\n",
        "flights = flights_raw\\\n",
        "    .map(lambda x: x.split(','))\\\n",
        "    .map(lambda x: (x[0], x[1], x[2], x[3], x[4],\n",
        "                    x[5], x[6], x[7], x[8], x[9],\n",
        "                    x[10], 0 if x[11]=='' else float(x[11]), x[12], x[13], x[14],\n",
        "                    x[15], x[16], x[17], x[18], x[19],\n",
        "                    x[20], x[21], x[22], x[23], x[24],\n",
        "                    x[25], x[26], x[27], x[28], x[29], x[30]\n",
        "))\n",
        "\n",
        "\n",
        "airports_raw = airports_lines\\\n",
        "    .zipWithIndex()\\\n",
        "    .filter(lambda x:x[1]>1)\\\n",
        "    .keys()\n",
        "\n",
        "airports = airports_raw\\\n",
        "    .map(lambda x: x.split(','))\\\n",
        "    .map(lambda x: (x[0], x[1], x[2], x[3]))\\\n",
        "    .filter(lambda x: x[0])\n",
        "\n",
        "\n",
        "mainFlightsData = flights.map(lambda p: (p[0], p[1], p[2], p[3], p[4], p[5],\n",
        "                                         p[6], p[7], p[8], p[9], p[10], p[11], p[24]))\n",
        "\n",
        "mainFlightsData.take(1)"
      ]
    },
    {
      "cell_type": "code",
      "execution_count": 14,
      "metadata": {
        "id": "QtTEGWwjBtso",
        "outputId": "45d68d6a-cdcf-45df-c9f2-d4d57fd7a2e3",
        "colab": {
          "base_uri": "https://localhost:8080/"
        }
      },
      "outputs": [
        {
          "output_type": "stream",
          "name": "stdout",
          "text": [
            "179\n",
            "0\n"
          ]
        }
      ],
      "source": [
        "# number 6 is ORIGIN_AIRPORT\n",
        "flightsFromBoston = mainFlightsData\\\n",
        "    .filter(lambda p: True if p[7] == \"BOS\" else False )\n",
        "\n",
        "# Get the total number of Flights from BOS\n",
        "# 107847 flights from Logan Airport in Boston\n",
        "print(flightsFromBoston.count())\n",
        "\n",
        "# Find the subset of flights departing on the weekend.\n",
        "weekEndFlights = flightsFromBoston\\\n",
        "    .filter(lambda p: True if (int(p[3])==6 or int(p[3]) ==7) else False)\n",
        "print(weekEndFlights.count()) # 26092"
      ]
    },
    {
      "cell_type": "code",
      "execution_count": 15,
      "metadata": {
        "id": "2jnEtI07Btsp",
        "outputId": "c1414069-caf2-4493-9b55-74fbb1ef0da8",
        "colab": {
          "base_uri": "https://localhost:8080/"
        }
      },
      "outputs": [
        {
          "output_type": "execute_result",
          "data": {
            "text/plain": [
              "['DEN',\n",
              " 'PDX',\n",
              " 'MSP',\n",
              " 'PHX',\n",
              " 'PSE',\n",
              " 'BQN',\n",
              " 'ORD',\n",
              " 'GEG',\n",
              " 'ONT',\n",
              " 'MCO',\n",
              " 'BOS',\n",
              " 'HIB',\n",
              " 'MAF',\n",
              " 'DFW',\n",
              " 'IAH',\n",
              " 'BRO',\n",
              " 'BJI',\n",
              " 'SGF',\n",
              " 'IAD',\n",
              " 'BUF',\n",
              " 'JFK',\n",
              " 'SMF',\n",
              " 'AUS',\n",
              " 'SBA',\n",
              " 'SMX',\n",
              " 'CLE',\n",
              " 'GSP',\n",
              " 'RDM',\n",
              " 'CID',\n",
              " 'TPA',\n",
              " 'TYR',\n",
              " 'RSW',\n",
              " 'OAK',\n",
              " 'PVD',\n",
              " 'RNO',\n",
              " 'PIT',\n",
              " 'MIA',\n",
              " 'TUL',\n",
              " 'MSY',\n",
              " 'OKC',\n",
              " 'ATW',\n",
              " 'MEM',\n",
              " 'TYS',\n",
              " 'CLT',\n",
              " 'GRB',\n",
              " 'ABE',\n",
              " 'JAN',\n",
              " 'FAR',\n",
              " 'LEX',\n",
              " 'JLN',\n",
              " 'RDU',\n",
              " 'MHK',\n",
              " 'TLH',\n",
              " 'BHM',\n",
              " 'CAE',\n",
              " 'TXK',\n",
              " 'DTW',\n",
              " 'EAU',\n",
              " 'DLH',\n",
              " 'FSD',\n",
              " 'INL',\n",
              " 'PAH',\n",
              " 'ISN',\n",
              " 'MFE',\n",
              " 'BTV',\n",
              " 'SPS',\n",
              " 'SJT',\n",
              " 'GCC',\n",
              " 'OGG',\n",
              " 'SJC',\n",
              " 'GUC',\n",
              " 'ORF',\n",
              " 'MLU',\n",
              " 'KOA',\n",
              " 'LAR',\n",
              " 'ITO',\n",
              " 'GRI',\n",
              " 'MDW',\n",
              " 'MDT',\n",
              " 'LIH',\n",
              " 'TWF',\n",
              " 'STC',\n",
              " 'HPN',\n",
              " 'MLB',\n",
              " 'CIU',\n",
              " 'DSM',\n",
              " 'BLI',\n",
              " 'ROW',\n",
              " 'FWA',\n",
              " 'ALB',\n",
              " 'LNK',\n",
              " 'CMI',\n",
              " 'GTF',\n",
              " 'GRR',\n",
              " 'SUX',\n",
              " 'DVL',\n",
              " 'BUR',\n",
              " 'DAB',\n",
              " 'DAY',\n",
              " 'GRK',\n",
              " 'GJT',\n",
              " 'BMI',\n",
              " 'TVC',\n",
              " 'LCH',\n",
              " 'DBQ',\n",
              " 'GCK',\n",
              " 'GNV',\n",
              " 'BRD',\n",
              " 'DIK',\n",
              " 'LBB',\n",
              " 'BTM',\n",
              " 'ELM',\n",
              " 'PIH',\n",
              " 'VEL',\n",
              " 'HDN',\n",
              " 'JMS',\n",
              " 'ROA',\n",
              " 'CHA',\n",
              " 'EYW',\n",
              " 'MYR',\n",
              " 'CRW',\n",
              " 'CHO',\n",
              " 'GFK',\n",
              " 'TOL',\n",
              " 'OTZ',\n",
              " 'KTN',\n",
              " 'STX',\n",
              " 'ILM',\n",
              " 'PUB',\n",
              " 'HRL',\n",
              " 'LSE',\n",
              " 'DHN',\n",
              " 'CNY',\n",
              " 'BRW',\n",
              " 'GGG',\n",
              " 'AZO',\n",
              " 'SRQ',\n",
              " 'TRI',\n",
              " 'MKG',\n",
              " 'RST',\n",
              " 'BET',\n",
              " 'ABY',\n",
              " 'SWF',\n",
              " 'LAX',\n",
              " 'SFO',\n",
              " 'SEA',\n",
              " 'LAS',\n",
              " 'SLC',\n",
              " 'ANC',\n",
              " 'FAI',\n",
              " 'SJU',\n",
              " 'PBG',\n",
              " 'IAG',\n",
              " 'HNL',\n",
              " 'ABR',\n",
              " 'MKE',\n",
              " 'BNA',\n",
              " 'VPS',\n",
              " 'BOI',\n",
              " 'PHL',\n",
              " 'SBN',\n",
              " 'RDD',\n",
              " 'EUG',\n",
              " 'PWM',\n",
              " 'CRP',\n",
              " 'PIA',\n",
              " 'FAT',\n",
              " 'MCI',\n",
              " 'ATL',\n",
              " 'JAX',\n",
              " 'MFR',\n",
              " 'IDA',\n",
              " 'MSN',\n",
              " 'DCA',\n",
              " 'SAT',\n",
              " 'CHS',\n",
              " 'IND',\n",
              " 'BDL',\n",
              " 'ABI',\n",
              " 'RIC',\n",
              " 'BFL',\n",
              " 'OMA',\n",
              " 'FLL',\n",
              " 'SYR',\n",
              " 'ROC',\n",
              " 'LAN',\n",
              " 'XNA',\n",
              " 'GSO',\n",
              " 'EWR',\n",
              " 'PBI',\n",
              " 'ABQ',\n",
              " 'BWI',\n",
              " 'LGA',\n",
              " 'LIT',\n",
              " 'PNS',\n",
              " 'MHT',\n",
              " 'SAV',\n",
              " 'OAJ',\n",
              " 'ERI',\n",
              " 'CWA',\n",
              " 'MSO',\n",
              " 'TTN',\n",
              " 'AMA',\n",
              " 'CLL',\n",
              " 'HOU',\n",
              " 'MLI',\n",
              " 'CVG',\n",
              " 'MOB',\n",
              " 'ACY',\n",
              " 'RAP',\n",
              " 'TUS',\n",
              " 'CMX',\n",
              " 'SPI',\n",
              " 'CLD',\n",
              " 'COD',\n",
              " 'CMH',\n",
              " 'LRD',\n",
              " 'PSC',\n",
              " 'CPR',\n",
              " 'ACV',\n",
              " 'DAL',\n",
              " 'MRY',\n",
              " 'ESC',\n",
              " 'PSP',\n",
              " 'STL',\n",
              " 'FSM',\n",
              " 'AEX',\n",
              " 'ACT',\n",
              " 'MTJ',\n",
              " 'MOT',\n",
              " 'SAN',\n",
              " 'LAW',\n",
              " 'PIB',\n",
              " 'MGM',\n",
              " 'SBP',\n",
              " 'COS',\n",
              " 'DRO',\n",
              " 'BIS',\n",
              " 'BTR',\n",
              " 'HLN',\n",
              " 'BZN',\n",
              " 'SCE',\n",
              " 'BPT',\n",
              " 'GPT',\n",
              " 'PLN',\n",
              " 'CAK',\n",
              " 'SHV',\n",
              " 'SNA',\n",
              " 'HOB',\n",
              " 'COU',\n",
              " 'EKO',\n",
              " 'LGB',\n",
              " 'AVL',\n",
              " 'HSV',\n",
              " 'SAF',\n",
              " 'LFT',\n",
              " 'HYS',\n",
              " 'ELP',\n",
              " 'ISP',\n",
              " 'LBE',\n",
              " 'ASE',\n",
              " 'RKS',\n",
              " 'GUM',\n",
              " 'ALO',\n",
              " 'IMT',\n",
              " 'JNU',\n",
              " 'JAC',\n",
              " 'MEI',\n",
              " 'SDF',\n",
              " 'AVP',\n",
              " 'ICT',\n",
              " 'SUN',\n",
              " 'LWS',\n",
              " 'STT',\n",
              " 'YUM',\n",
              " 'FLG',\n",
              " 'FCA',\n",
              " 'MQT',\n",
              " 'ECP',\n",
              " 'EVV',\n",
              " 'EGE',\n",
              " 'MBS',\n",
              " 'BIL',\n",
              " 'RHI',\n",
              " 'CDC',\n",
              " 'SCC',\n",
              " 'FNT',\n",
              " 'MMH',\n",
              " 'APN',\n",
              " 'AGS',\n",
              " 'CEC',\n",
              " 'WRG',\n",
              " 'PHF',\n",
              " 'ORH',\n",
              " 'VLD',\n",
              " 'SIT',\n",
              " 'BQK',\n",
              " 'PSG',\n",
              " 'FAY',\n",
              " 'CSG',\n",
              " 'EWN',\n",
              " 'OME',\n",
              " 'SGU',\n",
              " 'GTR',\n",
              " 'ILG']"
            ]
          },
          "metadata": {},
          "execution_count": 15
        }
      ],
      "source": [
        "#Q1 Find a list of Origin Airports\n",
        "result = flights\\\n",
        "    .map(lambda x:x[7])\\\n",
        "    .distinct()\n",
        "\n",
        "\n",
        "# Save the RDD into a Folder\n",
        "# This can be a path on Cloud Storage\n",
        "\n",
        "# Just show one of the results\n",
        "result.collect()"
      ]
    },
    {
      "cell_type": "code",
      "execution_count": null,
      "metadata": {
        "id": "8D5zwSrABtsp",
        "outputId": "7a6ec3e7-4178-4f27-c40d-0f70749afaf9"
      },
      "outputs": [
        {
          "data": {
            "text/plain": [
              "[('SEA', 'ANC')]"
            ]
          },
          "execution_count": 7,
          "metadata": {},
          "output_type": "execute_result"
        }
      ],
      "source": [
        "#Q2 Find a list of (Origin, Destination) pairs\n",
        "result = flights\\\n",
        "    .map(lambda x: (x[7],x[8]))\\\n",
        "    .distinct()\n",
        "\n",
        "# Save the RDD into a Folder\n",
        "# This can be a path on Cloud Storage\n",
        "# result.saveAsTextFile(\"Origin-Destination\")\n",
        "\n",
        "# Just show one of the results\n",
        "result.take(1)"
      ]
    },
    {
      "cell_type": "code",
      "execution_count": 16,
      "metadata": {
        "id": "i0LJWaJyBtsp",
        "outputId": "d7dc392c-d6bb-44c9-80ac-c012fdf63307",
        "colab": {
          "base_uri": "https://localhost:8080/"
        }
      },
      "outputs": [
        {
          "output_type": "execute_result",
          "data": {
            "text/plain": [
              "[('BOS', 1190.0)]"
            ]
          },
          "metadata": {},
          "execution_count": 16
        }
      ],
      "source": [
        "flights.filter(lambda x: x[1]==\"1\").map(lambda x: (x[7], x[11]) ).top(1, key=lambda x: x[1])"
      ]
    },
    {
      "cell_type": "code",
      "execution_count": 17,
      "metadata": {
        "id": "7K4fzu0yBtsp",
        "outputId": "f569b565-34fa-49f6-e26f-41f84fe50429",
        "colab": {
          "base_uri": "https://localhost:8080/"
        }
      },
      "outputs": [
        {
          "output_type": "stream",
          "name": "stdout",
          "text": [
            "[('BOS', 1190.0)]\n"
          ]
        }
      ],
      "source": [
        "#Q3 Find the Origin airport which had the largest departure delay in the month of January\n",
        "result = flights\\\n",
        "    .filter(lambda x: x[1]==\"1\")\\\n",
        "    .map(lambda x: (x[7], x[11]) )\\\n",
        "    .top(1, key=lambda x: x[1])\n",
        "\n",
        "print(result)"
      ]
    },
    {
      "cell_type": "code",
      "execution_count": 18,
      "metadata": {
        "id": "6ro2kFswBtsp",
        "outputId": "d18a4995-7e8c-4168-aacd-1cb665cc0b45",
        "colab": {
          "base_uri": "https://localhost:8080/"
        }
      },
      "outputs": [
        {
          "output_type": "stream",
          "name": "stdout",
          "text": [
            "[]\n"
          ]
        }
      ],
      "source": [
        "#Q4 Find out which Airline has the largest delay on Weekends.\n",
        "result = flights\\\n",
        "    .filter(lambda x: x[3]==\"6\" or x[3]==\"7\")\\\n",
        "    .map(lambda x: (x[4],x[11]) )\\\n",
        "    .top(1,lambda x: x[1])\n",
        "\n",
        "print(result)"
      ]
    },
    {
      "cell_type": "code",
      "execution_count": 19,
      "metadata": {
        "id": "3zQLHXw5Btsp",
        "outputId": "2db93e56-0eca-497e-8002-bf93e7b41553",
        "colab": {
          "base_uri": "https://localhost:8080/"
        }
      },
      "outputs": [
        {
          "output_type": "stream",
          "name": "stdout",
          "text": [
            "[('DFW', 153)]\n"
          ]
        }
      ],
      "source": [
        "#Q5 Which airport has the most cancellation of flights?\n",
        "result = flights\\\n",
        "    .filter(lambda x: x[24]==\"1\")\\\n",
        "    .map(lambda x: (x[7],1))\\\n",
        "    .reduceByKey(add)\\\n",
        "    .top(1, lambda x: x[1])\n",
        "\n",
        "print(result)"
      ]
    },
    {
      "cell_type": "code",
      "execution_count": 20,
      "metadata": {
        "id": "cCjIr-ibBtsp",
        "outputId": "81223ff0-ca5a-4910-a893-866589a1f21b",
        "colab": {
          "base_uri": "https://localhost:8080/"
        }
      },
      "outputs": [
        {
          "output_type": "execute_result",
          "data": {
            "text/plain": [
              "[('DL', 0.0),\n",
              " ('NK', 2.1621621621621623),\n",
              " ('UA', 0.8849557522123894),\n",
              " ('B6', 0.0)]"
            ]
          },
          "metadata": {},
          "execution_count": 20
        }
      ],
      "source": [
        "flights.map(lambda x: (x[4], ((int(x[24])), 1))).reduceByKey(lambda x,y: (x[0]+y[0],x[1]+y[1])).map(lambda x: (x[0], x[1][0]/x[1][1] * 100)).take(4)"
      ]
    },
    {
      "cell_type": "code",
      "execution_count": 21,
      "metadata": {
        "id": "DmZ_vmeZBtsp",
        "outputId": "5149fb2a-c33b-4a0e-a8a9-36897d0f1399",
        "colab": {
          "base_uri": "https://localhost:8080/"
        }
      },
      "outputs": [
        {
          "output_type": "execute_result",
          "data": {
            "text/plain": [
              "[('DL', 0.0)]"
            ]
          },
          "metadata": {},
          "execution_count": 21
        }
      ],
      "source": [
        "#Q6 Find the percent of flights cancelled for each Airline.\n",
        "result = flights\\\n",
        "    .map(lambda x: (x[4], ((int(x[24])), 1)))\\\n",
        "    .reduceByKey(lambda x,y: (x[0]+y[0],x[1]+y[1]))\\\n",
        "    .map(lambda x: (x[0], x[1][0]/x[1][1] * 100))\n",
        "\n",
        "# Just show one of the results\n",
        "result.take(1)\n"
      ]
    },
    {
      "cell_type": "code",
      "execution_count": 22,
      "metadata": {
        "id": "YkED7VFHBtsq",
        "outputId": "bd8698d4-20b3-4470-bfec-b788f16c13e3",
        "colab": {
          "base_uri": "https://localhost:8080/"
        }
      },
      "outputs": [
        {
          "output_type": "execute_result",
          "data": {
            "text/plain": [
              "[('DL', 511.0)]"
            ]
          },
          "metadata": {},
          "execution_count": 22
        }
      ],
      "source": [
        "#Q7 Find the largest departure delay for each carrier\n",
        "result = flights\\\n",
        "    .map(lambda x: (x[4], x[11]) )\\\n",
        "    .reduceByKey(max)\n",
        "\n",
        "# Just show one of the results\n",
        "result.take(1)"
      ]
    },
    {
      "cell_type": "code",
      "execution_count": 23,
      "metadata": {
        "id": "EIlWAwdZBtsq",
        "outputId": "e08dc25a-5d40-49b3-dd08-f84554df30f2",
        "colab": {
          "base_uri": "https://localhost:8080/"
        }
      },
      "outputs": [
        {
          "output_type": "execute_result",
          "data": {
            "text/plain": [
              "[(('AA', 1), 1190.0)]"
            ]
          },
          "metadata": {},
          "execution_count": 23
        }
      ],
      "source": [
        "#Q8 Find the largest departure delay for each carrier for each month\n",
        "result = flights\\\n",
        "    .map(lambda x: ((x[4], int(x[1])), x[11]) )\\\n",
        "    .reduceByKey(max)\n",
        "\n",
        "# Just show one of the results\n",
        "result.take(1)\n"
      ]
    },
    {
      "cell_type": "code",
      "execution_count": 24,
      "metadata": {
        "id": "LE1KJB5rBtsq",
        "outputId": "d64651af-49d8-49e7-d1d7-01c9030ce7cd",
        "colab": {
          "base_uri": "https://localhost:8080/"
        }
      },
      "outputs": [
        {
          "output_type": "execute_result",
          "data": {
            "text/plain": [
              "[('DL', 3.169750603378922)]"
            ]
          },
          "metadata": {},
          "execution_count": 24
        }
      ],
      "source": [
        "#Q9 For each carrier find the average Departure delay\n",
        "result = flights \\\n",
        "    .map(lambda x: (x[4], (x[11], 1))) \\\n",
        "    .reduceByKey(lambda x,y: (x[0]+y[0], x[1]+y[1]))\\\n",
        "    .map(lambda x: (x[0], x[1][0]/x[1][1])) \\\n",
        "\n",
        "# Just show one of the results\n",
        "result.take(1)\n"
      ]
    },
    {
      "cell_type": "code",
      "execution_count": 25,
      "metadata": {
        "id": "ur7w-V0EBtsq",
        "outputId": "73af7864-7050-44a2-fefc-19ffbff0350a",
        "colab": {
          "base_uri": "https://localhost:8080/"
        }
      },
      "outputs": [
        {
          "output_type": "execute_result",
          "data": {
            "text/plain": [
              "[(('AA', 1), 12.56616257088847)]"
            ]
          },
          "metadata": {},
          "execution_count": 25
        }
      ],
      "source": [
        "#Q10 For each carrier find the average Departure delay for each month\n",
        "result = flights.map(lambda x: ((x[4], int(x[1])),(x[11],1)))\\\n",
        "    .reduceByKey(lambda x,y: (x[0]+y[0], x[1]+y[1]))\\\n",
        "    .map(lambda x: (x[0], x[1][0]/x[1][1]))\n",
        "\n",
        "# Just show one of the results\n",
        "result.take(1)\n"
      ]
    },
    {
      "cell_type": "code",
      "execution_count": 26,
      "metadata": {
        "id": "xgX1I-fGBtsq",
        "outputId": "d391e5c1-8639-44a7-c48d-9d226b620dc2",
        "colab": {
          "base_uri": "https://localhost:8080/"
        }
      },
      "outputs": [
        {
          "output_type": "stream",
          "name": "stdout",
          "text": [
            "[(('2015', '1', '1'), 0.0392039203920392)]\n"
          ]
        }
      ],
      "source": [
        "#Q11 Which date of year has the highest rate  of flight cancellations?\n",
        "# Rate of flight cancellation is calculated by deviding number of canceled flights by total number of flights.\n",
        "result = flights\\\n",
        "    .map(lambda x: ((x[0],x[1],x[2]), ((int(x[24])), 1)) )\\\n",
        "    .reduceByKey(lambda x,y: (x[0]+y[0],x[1]+y[1]))\\\n",
        "    .map(lambda x: (x[0], x[1][0]/x[1][1]))\\\n",
        "    .top(1, lambda x:x[1])\n",
        "\n",
        "print(result)\n"
      ]
    },
    {
      "cell_type": "code",
      "execution_count": 27,
      "metadata": {
        "id": "wUFuAKO2Btsq",
        "outputId": "7c42f308-cc8d-4d6b-dff3-9ff865571683",
        "colab": {
          "base_uri": "https://localhost:8080/"
        }
      },
      "outputs": [
        {
          "output_type": "execute_result",
          "data": {
            "text/plain": [
              "9999"
            ]
          },
          "metadata": {},
          "execution_count": 27
        }
      ],
      "source": [
        "flights.count()"
      ]
    },
    {
      "cell_type": "code",
      "execution_count": 28,
      "metadata": {
        "id": "FlHXDaRsBtsq",
        "outputId": "ceb9579f-4db0-451c-f87b-234f10f7a329",
        "colab": {
          "base_uri": "https://localhost:8080/"
        }
      },
      "outputs": [
        {
          "output_type": "execute_result",
          "data": {
            "text/plain": [
              "321"
            ]
          },
          "metadata": {},
          "execution_count": 28
        }
      ],
      "source": [
        "airports.count()"
      ]
    },
    {
      "cell_type": "code",
      "execution_count": 29,
      "metadata": {
        "id": "090vKiO6Btsq",
        "outputId": "e51ab08f-1d69-4df7-fddf-6528140cd534",
        "colab": {
          "base_uri": "https://localhost:8080/"
        }
      },
      "outputs": [
        {
          "output_type": "execute_result",
          "data": {
            "text/plain": [
              "[('UA', 'TX'),\n",
              " ('OO', 'MO'),\n",
              " ('US', 'CA'),\n",
              " ('WN', 'IA'),\n",
              " ('HA', 'CA'),\n",
              " ('DL', 'SD'),\n",
              " ('NK', 'NJ'),\n",
              " ('F9', 'MI'),\n",
              " ('B6', 'WA'),\n",
              " ('EV', 'TX'),\n",
              " ('MQ', 'VA'),\n",
              " ('AS', 'MO'),\n",
              " ('AA', 'HI'),\n",
              " ('VX', 'TX')]"
            ]
          },
          "metadata": {},
          "execution_count": 29
        }
      ],
      "source": [
        "#Q12 Calculate the number of flights to each destination state\n",
        "# For each carrier, for which state do they have the largest average delay?\n",
        "# You will need the airline and airport data sets for this question.\n",
        "\n",
        "result = flights\\\n",
        "    .map(lambda x: ( (x[4],x[8]), (x[11],1) ))\\\n",
        "    .reduceByKey(lambda x,y: (x[0]+y[0], x[1]+y[1]))\\\n",
        "    .map(lambda x: (x[0][1], (x[0][0], x[1][0]/x[1][1]) ))\\\n",
        "    .leftOuterJoin(airports.map(lambda x: (x[0], x[3])))\\\n",
        "    .filter(lambda x: x[1][1] is not None)\\\n",
        "    .map(lambda x: (x[1][0][0], (x[1][1], x[1][0][1])))\\\n",
        "    .reduceByKey(lambda x,y: (x[0],x[1]) if x[1] > y[1] else (y[0],y[1]) )\\\n",
        "    .map(lambda x: (x[0], x[1][0]))\n",
        "\n",
        "# Just show one of the results\n",
        "result.collect()\n"
      ]
    },
    {
      "cell_type": "code",
      "execution_count": null,
      "metadata": {
        "id": "xOybQh_ABtsq"
      },
      "outputs": [],
      "source": []
    }
  ],
  "metadata": {
    "kernelspec": {
      "display_name": "Python 3 (ipykernel)",
      "language": "python",
      "name": "python3"
    },
    "language_info": {
      "codemirror_mode": {
        "name": "ipython",
        "version": 3
      },
      "file_extension": ".py",
      "mimetype": "text/x-python",
      "name": "python",
      "nbconvert_exporter": "python",
      "pygments_lexer": "ipython3",
      "version": "3.11.7"
    },
    "colab": {
      "provenance": []
    }
  },
  "nbformat": 4,
  "nbformat_minor": 0
}